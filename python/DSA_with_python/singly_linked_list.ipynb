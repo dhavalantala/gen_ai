{
 "cells": [
  {
   "cell_type": "code",
   "execution_count": 26,
   "id": "46a14112-0d6d-4176-979f-5784fbb1e17a",
   "metadata": {},
   "outputs": [],
   "source": [
    "class Node:\n",
    "    def __init__(self, item = None, next = None):\n",
    "        self.item = item\n",
    "        self.next = next"
   ]
  },
  {
   "cell_type": "code",
   "execution_count": 19,
   "id": "7a8f64d5-77ca-430d-a69e-0db6708198fe",
   "metadata": {},
   "outputs": [],
   "source": [
    "\n",
    "class SLL: \n",
    "    def __init__(self, start = None):\n",
    "        self.start = start\n",
    "\n",
    "    def is_empty(self):\n",
    "        return self.start == None\n",
    "\n",
    "    def insert_at_start(self, data):\n",
    "        n = Node(item=data, next = self.start)\n",
    "        self.start = n\n",
    "\n",
    "    def insert_at_last(self, data):\n",
    "        n = Node(item = data)\n",
    "        if not self.is_empty():\n",
    "            temp = self.start\n",
    "            while temp.next is not None:\n",
    "                temp = temp.next\n",
    "            temp.next = n\n",
    "        else:\n",
    "            self.start = n\n",
    "\n",
    "    def search(self, data):\n",
    "        temp = self.start \n",
    "        while temp is not None:\n",
    "            if temp.item == data:\n",
    "                return temp\n",
    "            temp = temp.next\n",
    "        return None\n",
    "\n",
    "    def insert_after(self, temp, data):\n",
    "        if temp is not None:\n",
    "            n = Node(item=data, next=temp.next)\n",
    "            temp.next = n\n",
    "\n",
    "    def print_list(self):\n",
    "        temp = self.start\n",
    "        while temp is not None:\n",
    "            print(temp.item, end=' ')\n",
    "            temp = temp.next\n",
    "\n",
    "    def delete_first(self):\n",
    "        if self.start is not None:\n",
    "            self.start = self.start.next\n",
    "    \n",
    "    def delete_last(self):\n",
    "        if self.start is None:\n",
    "            pass\n",
    "        elif self.start.next == None:\n",
    "            self.start = None\n",
    "        else:\n",
    "            temp = self.start\n",
    "            while temp.next.next is not None:\n",
    "                temp = temp.next\n",
    "            temp.next = None\n",
    "    \n",
    "    def delete_item(self,data):\n",
    "        if self.start is None:\n",
    "            pass\n",
    "        elif self.start.next is None:\n",
    "            if self.start == data:\n",
    "                self.start = None\n",
    "        else:\n",
    "            temp = self.start\n",
    "            if temp.item == data:\n",
    "                self.start = temp.next\n",
    "            else:\n",
    "                while temp.next is not None:\n",
    "                    if temp.next.item == data:\n",
    "                        temp.next = temp.next.next\n",
    "                        break\n",
    "                    temp = temp.next\n",
    "\n",
    "    def __iter__(self):\n",
    "        return SLLIterator(self.start)"
   ]
  },
  {
   "cell_type": "code",
   "execution_count": 20,
   "id": "a8c00aeb-26ee-4b4e-b84e-a5401a73fd1b",
   "metadata": {},
   "outputs": [],
   "source": [
    "class SLLIterator:\n",
    "    def __init__(self, start):\n",
    "        self.current = start\n",
    "    def __iter__(self):\n",
    "        return self\n",
    "    def __next__(self):\n",
    "        if not self.current:\n",
    "            raise StopIteration\n",
    "        data = self.current.item      \n",
    "        self.current = self.current.next\n",
    "        return data"
   ]
  },
  {
   "cell_type": "code",
   "execution_count": 21,
   "id": "3ff6c8a3-5b80-413e-b6b1-c79389543de5",
   "metadata": {},
   "outputs": [],
   "source": [
    "mylist = SLL()\n",
    "mylist.is_empty() ## is its empty nothing written\n",
    "mylist.print_list()\n",
    "# mylist.insert_at_start(20)\n",
    "# mylist.insert_at_start(10)\n",
    "mylist.insert_at_last(1)\n",
    "mylist.insert_at_last(2)\n",
    "mylist.insert_at_last(3)\n",
    "# mylist.insert_after(temp = mylist.search(20), data = 25)\n",
    "# mylist.delete_first()\n",
    "# mylist.delete_last()\n",
    "# mylist.delete_item(20)"
   ]
  },
  {
   "cell_type": "code",
   "execution_count": 22,
   "id": "02fe2995-2e47-4c66-81b9-3c8158da560b",
   "metadata": {},
   "outputs": [
    {
     "name": "stdout",
     "output_type": "stream",
     "text": [
      "1 2 3 "
     ]
    }
   ],
   "source": [
    "mylist.print_list()"
   ]
  },
  {
   "cell_type": "code",
   "execution_count": 23,
   "id": "6a9a0a6e-bdbd-4bf4-ab30-9f5e41de0b8e",
   "metadata": {},
   "outputs": [
    {
     "data": {
      "text/plain": [
       "False"
      ]
     },
     "execution_count": 23,
     "metadata": {},
     "output_type": "execute_result"
    }
   ],
   "source": [
    "mylist.is_empty()"
   ]
  },
  {
   "cell_type": "code",
   "execution_count": null,
   "id": "e6aec906-6074-4a57-ad4c-af02b28d7076",
   "metadata": {},
   "outputs": [],
   "source": []
  },
  {
   "cell_type": "code",
   "execution_count": 14,
   "id": "f02d785f-db36-41da-a11c-0e06ebd87527",
   "metadata": {},
   "outputs": [],
   "source": [
    "lista = Node(item=(4,1,8,4,5), next=None)"
   ]
  },
  {
   "cell_type": "code",
   "execution_count": 26,
   "id": "bdecbda9-7bc9-47dc-bc45-190d87654c7d",
   "metadata": {},
   "outputs": [
    {
     "ename": "KeyboardInterrupt",
     "evalue": "",
     "output_type": "error",
     "traceback": [
      "\u001b[0;31m---------------------------------------------------------------------------\u001b[0m",
      "\u001b[0;31mKeyboardInterrupt\u001b[0m                         Traceback (most recent call last)",
      "Cell \u001b[0;32mIn[26], line 2\u001b[0m\n\u001b[1;32m      1\u001b[0m i \u001b[38;5;241m=\u001b[39m \u001b[38;5;241m0\u001b[39m \n\u001b[0;32m----> 2\u001b[0m \u001b[38;5;28;01mwhile\u001b[39;00m mylist:\n\u001b[1;32m      3\u001b[0m     mylist \u001b[38;5;241m=\u001b[39m mylist\n\u001b[1;32m      4\u001b[0m     i \u001b[38;5;241m+\u001b[39m\u001b[38;5;241m=\u001b[39m \u001b[38;5;241m1\u001b[39m\n",
      "\u001b[0;31mKeyboardInterrupt\u001b[0m: "
     ]
    }
   ],
   "source": [
    "i = 0 \n",
    "while mylist:\n",
    "    mylist = mylist\n",
    "    i += 1"
   ]
  },
  {
   "cell_type": "code",
   "execution_count": 17,
   "id": "ec75c497-a94d-4c78-8b55-55ce659216ac",
   "metadata": {},
   "outputs": [
    {
     "data": {
      "text/plain": [
       "1"
      ]
     },
     "execution_count": 17,
     "metadata": {},
     "output_type": "execute_result"
    }
   ],
   "source": [
    "i"
   ]
  },
  {
   "cell_type": "code",
   "execution_count": 23,
   "id": "ac1f7cd6-aace-4a4e-a37c-898feb8a45ee",
   "metadata": {},
   "outputs": [],
   "source": [
    "listA = []"
   ]
  },
  {
   "cell_type": "code",
   "execution_count": 24,
   "id": "dc2810b5-a347-40b9-a7b1-7ff01c6e8715",
   "metadata": {},
   "outputs": [
    {
     "name": "stdout",
     "output_type": "stream",
     "text": [
      "not None\n"
     ]
    }
   ],
   "source": [
    "if listA is not None:\n",
    "    print(\"not None\")\n",
    "else:\n",
    "    print(None)"
   ]
  },
  {
   "cell_type": "code",
   "execution_count": 25,
   "id": "73797973-0439-4828-aaee-3f27ac758381",
   "metadata": {},
   "outputs": [
    {
     "data": {
      "text/plain": [
       "[]"
      ]
     },
     "execution_count": 25,
     "metadata": {},
     "output_type": "execute_result"
    }
   ],
   "source": [
    "listA"
   ]
  },
  {
   "cell_type": "code",
   "execution_count": null,
   "id": "95a30028-679b-4a69-b032-6a3e64adc8f6",
   "metadata": {},
   "outputs": [],
   "source": [
    "# Definition for singly-linked list node\n",
    "class ListNode:\n",
    "    def __init__(self, val=0, next=None):\n",
    "        self.val = val\n",
    "        self.next = next\n",
    "\n",
    "class Solution:\n",
    "    def getIntersectionNode(self, headA, headB):\n",
    "        \"\"\"\n",
    "        :type headA, headB: ListNode\n",
    "        :rtype: ListNode\n",
    "        \"\"\"\n",
    "        l1, l2 = headA, headB\n",
    "        while l1 != l2:\n",
    "            l1 = l1.next if l1 else headB\n",
    "            l2 = l2.next if l2 else headA\n",
    "        return l1\n",
    "\n",
    "# Helper function to create linked lists with an intersection\n",
    "def create_intersection(listA_vals, listB_vals, intersect_val=None):\n",
    "    # Create List A\n",
    "    headA = ListNode(listA_vals[0]) if listA_vals else None\n",
    "    currentA = headA\n",
    "    for val in listA_vals[1:]:\n",
    "        currentA.next = ListNode(val)\n",
    "        currentA = currentA.next\n",
    "\n",
    "    # Create List B\n",
    "    headB = ListNode(listB_vals[0]) if listB_vals else None\n",
    "    currentB = headB\n",
    "    for val in listB_vals[1:]:\n",
    "        currentB.next = ListNode(val)\n",
    "        currentB = currentB.next\n",
    "\n",
    "    # Create intersection if specified\n",
    "    if intersect_val:\n",
    "        # Find the intersection node in List A\n",
    "        intersection_node = headA\n",
    "        while intersection_node and intersection_node.val != intersect_val:\n",
    "            intersection_node = intersection_node.next\n",
    "\n",
    "        # Attach intersection node to List B\n",
    "        if currentB:\n",
    "            currentB.next = intersection_node\n",
    "\n",
    "    return headA, headB\n",
    "\n",
    "# Example 1: Lists with intersection\n",
    "listA = [4, 1, 8, 4, 5]\n",
    "listB = [5, 6, 1]\n",
    "intersect_val = 8\n",
    "\n",
    "headA, headB = create_intersection(listA, listB, intersect_val)\n",
    "\n",
    "# Run the solution\n",
    "solution = Solution()\n",
    "intersection_node = solution.getIntersectionNode(headA, headB)\n",
    "\n",
    "# Output the result\n",
    "if intersection_node:\n",
    "    print(f\"Intersection at node with value: {intersection_node.val}\")\n",
    "else:\n",
    "    print(\"No intersection found.\")\n"
   ]
  },
  {
   "cell_type": "code",
   "execution_count": 27,
   "id": "50790e03-efce-4ea1-a502-7400410cc049",
   "metadata": {},
   "outputs": [],
   "source": [
    "a1 = Node(1)\n",
    "a2 = Node(2)\n",
    "a3 = Node(3)"
   ]
  },
  {
   "cell_type": "code",
   "execution_count": 28,
   "id": "b174c831-caca-4f9f-bd65-8bfea23fad42",
   "metadata": {},
   "outputs": [],
   "source": [
    "a1.next = a2\n",
    "a2.next = a3"
   ]
  },
  {
   "cell_type": "code",
   "execution_count": null,
   "id": "3c0800ca-e931-4015-8c5f-f8265696b891",
   "metadata": {},
   "outputs": [],
   "source": []
  }
 ],
 "metadata": {
  "kernelspec": {
   "display_name": "Python 3 (ipykernel)",
   "language": "python",
   "name": "python3"
  },
  "language_info": {
   "codemirror_mode": {
    "name": "ipython",
    "version": 3
   },
   "file_extension": ".py",
   "mimetype": "text/x-python",
   "name": "python",
   "nbconvert_exporter": "python",
   "pygments_lexer": "ipython3",
   "version": "3.12.4"
  }
 },
 "nbformat": 4,
 "nbformat_minor": 5
}
