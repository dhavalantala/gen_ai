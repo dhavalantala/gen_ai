{
 "cells": [
  {
   "cell_type": "code",
   "execution_count": 3,
   "id": "490fe776",
   "metadata": {},
   "outputs": [],
   "source": [
    "from langchain_community.tools import DuckDuckGoSearchRun\n",
    "\n",
    "search_tool = DuckDuckGoSearchRun()\n",
    "\n",
    "result = search_tool.invoke('ipl news')"
   ]
  },
  {
   "cell_type": "code",
   "execution_count": 4,
   "id": "9d9f313f",
   "metadata": {},
   "outputs": [
    {
     "name": "stdout",
     "output_type": "stream",
     "text": [
      "News; Sports; IPL 2025 'Punjab will not win IPL 2025 because Ricky Ponting does not trust Indian players,' says Manoj Tiwary ... \"My gut feeling says that Punjab team will not be able to win the #IPL trophy this season because what I saw today when they were batting was, the coach didn't send Indian in-form batters Nehal Wadhera and ... Today IPL match LIVE, CSK vs SRH scorecard: It's the battle of survival in the Indian Premier (IPL) today (25 April, Friday) as Chennai Super Kings (CSK) take on Sunrisers Hyderabad (SRH) at the MA Chidambaram Stadium in Chennai.Both CSK and SRH are at the bottom of the table with four points each. Both CSK and SRH have lost six games so far and have secured only two wins each. Get the latest news, updates, predictions and scores for IPL 2025, the cash-rich T20 cricket league in India. Find out about the mega-auction, the teams, the players, the fixtures, the standings and the fantasy tips for IPL 2025. How has Punjab Kings performed in IPL 2025? PBKS have shown promise right from the start of the season and have looked a well-settled and balanced unit. They have secured 11 points thus far and ... Stay updated with all the latest news on IPL 2025, including the schedule, Points Table, IPL Orange Cap, and IPL Purple Cap. Get latest Cricket news, live score and match results on News18. Download the News18 App to stay updated!\n"
     ]
    }
   ],
   "source": [
    "print(result)"
   ]
  },
  {
   "cell_type": "code",
   "execution_count": 5,
   "id": "5bb3fe7f",
   "metadata": {},
   "outputs": [
    {
     "data": {
      "text/plain": [
       "\"Pakistani news channels are reportedly being taken off the air in India. The X handles of several Pakistani outlets have been restricted. Apr 27, 2025 12:10 IST India News | Latest India News | Read latest and breaking news from India. Today's top India news headlines, news on Indian politics, elections, government, business, technology, and Bollywood. A first despite two wars: To understand the significance of India's response, one must first comprehend the basis of the Indus Waters Treaty of 1960. The IWT, brokered by the World Bank and signed in 1960, governs water sharing between the two countries. Under the treaty, India controls the eastern rivers (Beas, Ravi, Sutlej), while Pakistan has rights over the western rivers (Indus, Chenab ... Diplomatic relations between the two countries were weak even before the latest measures were announced, as Pakistan had expelled India's envoy and not posted its own ambassador in New Delhi ... Published 04/24/2025 Published April 24, 2025 last updated 04/24/2025 last updated April 24, 2025. The Pakistani government canceled visas for most Indians and closed its airspace to Indian ...\""
      ]
     },
     "execution_count": 5,
     "metadata": {},
     "output_type": "execute_result"
    }
   ],
   "source": [
    "search_tool.invoke(\"latest india news\")"
   ]
  },
  {
   "cell_type": "code",
   "execution_count": 9,
   "id": "97b5708a",
   "metadata": {},
   "outputs": [
    {
     "name": "stdout",
     "output_type": "stream",
     "text": [
      "Executing command:\n",
      " ls\n"
     ]
    },
    {
     "name": "stderr",
     "output_type": "stream",
     "text": [
      "/Users/dhavalantala/Desktop/gen_ai/gen_ai/lib/python3.12/site-packages/langchain_community/tools/shell/tool.py:33: UserWarning: The shell tool has no safeguards by default. Use at your own risk.\n",
      "  warnings.warn(\n"
     ]
    },
    {
     "data": {
      "text/plain": [
       "'tools.ipynb\\n'"
      ]
     },
     "execution_count": 9,
     "metadata": {},
     "output_type": "execute_result"
    }
   ],
   "source": [
    "from langchain_community.tools import ShellTool\n",
    "\n",
    "shell_toll = ShellTool()\n",
    "\n",
    "shell_toll.invoke(\"ls\")"
   ]
  },
  {
   "cell_type": "markdown",
   "id": "079764ac",
   "metadata": {},
   "source": [
    "## Custom Tools\n",
    "\n",
    "A custom tool is a tool that you define yourself. \n",
    "\n",
    "Use them when: \n",
    "- You want to call **your own APIs**\n",
    "- You want to **encapsulate business logic**\n",
    "- You want the LLM to interact with **your database, product, or app**"
   ]
  },
  {
   "cell_type": "code",
   "execution_count": 10,
   "id": "215a81e9",
   "metadata": {},
   "outputs": [],
   "source": [
    "from langchain_core.tools import tool"
   ]
  },
  {
   "cell_type": "code",
   "execution_count": null,
   "id": "1d49d4fc",
   "metadata": {},
   "outputs": [],
   "source": [
    "# Step 1 - Create a function\n",
    "\n",
    "def multiply(a, b):\n",
    "    \"\"\"Multiply two numbers\"\"\"\n",
    "    return a*b "
   ]
  },
  {
   "cell_type": "code",
   "execution_count": 12,
   "id": "6c4fc39d",
   "metadata": {},
   "outputs": [],
   "source": [
    "def multiply(a: int, b: int) -> int:\n",
    "    \"\"\"Multiply two number\"\"\"\n",
    "    return a * b"
   ]
  },
  {
   "cell_type": "code",
   "execution_count": 13,
   "id": "e6bad3b9",
   "metadata": {},
   "outputs": [],
   "source": [
    "@tool\n",
    "def multiply(a: int, b: int) -> int:\n",
    "    \"\"\"Multiply two number\"\"\"\n",
    "    return a * b"
   ]
  },
  {
   "cell_type": "code",
   "execution_count": 15,
   "id": "71e4efcc",
   "metadata": {},
   "outputs": [
    {
     "data": {
      "text/plain": [
       "9"
      ]
     },
     "execution_count": 15,
     "metadata": {},
     "output_type": "execute_result"
    }
   ],
   "source": [
    "result = multiply.invoke({\"a\" : 3, \"b\" : 3})\n",
    "result"
   ]
  },
  {
   "cell_type": "code",
   "execution_count": 16,
   "id": "91bc856d",
   "metadata": {},
   "outputs": [
    {
     "data": {
      "text/plain": [
       "('multiply',\n",
       " 'Multiply two number',\n",
       " {'a': {'title': 'A', 'type': 'integer'},\n",
       "  'b': {'title': 'B', 'type': 'integer'}})"
      ]
     },
     "execution_count": 16,
     "metadata": {},
     "output_type": "execute_result"
    }
   ],
   "source": [
    "multiply.name, multiply.description, multiply.args"
   ]
  },
  {
   "cell_type": "code",
   "execution_count": 17,
   "id": "898ae122",
   "metadata": {},
   "outputs": [
    {
     "data": {
      "text/plain": [
       "{'description': 'Multiply two number',\n",
       " 'properties': {'a': {'title': 'A', 'type': 'integer'},\n",
       "  'b': {'title': 'B', 'type': 'integer'}},\n",
       " 'required': ['a', 'b'],\n",
       " 'title': 'multiply',\n",
       " 'type': 'object'}"
      ]
     },
     "execution_count": 17,
     "metadata": {},
     "output_type": "execute_result"
    }
   ],
   "source": [
    "multiply.args_schema.model_json_schema()"
   ]
  },
  {
   "cell_type": "code",
   "execution_count": null,
   "id": "ce6c74b4",
   "metadata": {},
   "outputs": [],
   "source": []
  },
  {
   "cell_type": "markdown",
   "id": "51f3d5e8",
   "metadata": {},
   "source": [
    "## **Using Structured Tool**\n",
    "\n",
    "Structured tool in langchain is a special types of tool where the input to the tool follows a structured schema, typically defined using a Pydantic model."
   ]
  },
  {
   "cell_type": "code",
   "execution_count": 18,
   "id": "f37d2b88",
   "metadata": {},
   "outputs": [],
   "source": [
    "from pydantic import BaseModel, Field\n",
    "from langchain.tools import StructuredTool"
   ]
  },
  {
   "cell_type": "code",
   "execution_count": 19,
   "id": "96f4e2ec",
   "metadata": {},
   "outputs": [],
   "source": [
    "class MultiplyInput(BaseModel):\n",
    "    a: int = Field(required=True, description=\"The first number to add\")\n",
    "    b: int = Field(required=True, description=\"The second number to add\")"
   ]
  },
  {
   "cell_type": "code",
   "execution_count": 20,
   "id": "02dc4882",
   "metadata": {},
   "outputs": [],
   "source": [
    "def multiply_func(a: int, b: int) -> int:\n",
    "    return a * b"
   ]
  },
  {
   "cell_type": "code",
   "execution_count": 21,
   "id": "580b88ec",
   "metadata": {},
   "outputs": [],
   "source": [
    "multiply_tool = StructuredTool.from_function(\n",
    "    func=multiply_func,\n",
    "    name = \"multiply\",\n",
    "    description=\"Multiply two numbers\",\n",
    "    args_schema=MultiplyInput\n",
    ")"
   ]
  },
  {
   "cell_type": "code",
   "execution_count": 22,
   "id": "25b53865",
   "metadata": {},
   "outputs": [],
   "source": [
    "result = multiply_tool.invoke({\"a\": 4, \"b\":3})"
   ]
  },
  {
   "cell_type": "code",
   "execution_count": 23,
   "id": "82dd491f",
   "metadata": {},
   "outputs": [
    {
     "data": {
      "text/plain": [
       "12"
      ]
     },
     "execution_count": 23,
     "metadata": {},
     "output_type": "execute_result"
    }
   ],
   "source": [
    "result"
   ]
  },
  {
   "cell_type": "code",
   "execution_count": null,
   "id": "005091db",
   "metadata": {},
   "outputs": [],
   "source": []
  },
  {
   "cell_type": "markdown",
   "id": "1ff86b4c",
   "metadata": {},
   "source": [
    "## **Using BaseTool**\n",
    "\n",
    "BaseTool is the abstract base class for all tools in Langchain. It defined the core structure and interface that any tool must follow, where it's simple one-liner or fully customized function. "
   ]
  },
  {
   "cell_type": "code",
   "execution_count": 30,
   "id": "39efe3d6",
   "metadata": {},
   "outputs": [],
   "source": [
    "from langchain.tools import BaseTool\n",
    "from typing import Type"
   ]
  },
  {
   "cell_type": "code",
   "execution_count": 31,
   "id": "cf91888f",
   "metadata": {},
   "outputs": [],
   "source": [
    "class MultiplyInput(BaseModel):\n",
    "    a: int = Field(required=True, description=\"The first number to add\")\n",
    "    b: int = Field(required=True, description=\"The second number to add\")"
   ]
  },
  {
   "cell_type": "code",
   "execution_count": 41,
   "id": "db198050",
   "metadata": {},
   "outputs": [],
   "source": [
    "class MultiplyTool(BaseTool):\n",
    "    name : str = \"Multiply\"\n",
    "\n",
    "    description : str = \"Multiply two numbers\"\n",
    "\n",
    "    args_schema : Type[BaseModel] = MultiplyInput\n",
    "\n",
    "    def _run(self, a:int, b:int) -> int:\n",
    "        return a*b"
   ]
  },
  {
   "cell_type": "code",
   "execution_count": 42,
   "id": "78ba1e00",
   "metadata": {},
   "outputs": [],
   "source": [
    "multiply_tool = MultiplyTool()"
   ]
  },
  {
   "cell_type": "code",
   "execution_count": 43,
   "id": "4cbeed51",
   "metadata": {},
   "outputs": [
    {
     "data": {
      "text/plain": [
       "15"
      ]
     },
     "execution_count": 43,
     "metadata": {},
     "output_type": "execute_result"
    }
   ],
   "source": [
    "multiply_tool.invoke({\"a\":5, \"b\":3})"
   ]
  },
  {
   "cell_type": "code",
   "execution_count": 44,
   "id": "cd061f1f",
   "metadata": {},
   "outputs": [
    {
     "data": {
      "text/plain": [
       "('Multiply',\n",
       " 'Multiply two numbers',\n",
       " {'a': {'description': 'The first number to add',\n",
       "   'required': True,\n",
       "   'title': 'A',\n",
       "   'type': 'integer'},\n",
       "  'b': {'description': 'The second number to add',\n",
       "   'required': True,\n",
       "   'title': 'B',\n",
       "   'type': 'integer'}})"
      ]
     },
     "execution_count": 44,
     "metadata": {},
     "output_type": "execute_result"
    }
   ],
   "source": [
    "multiply_tool.name, multiply_tool.description, multiply_tool.args"
   ]
  },
  {
   "cell_type": "code",
   "execution_count": null,
   "id": "8dc90dfc",
   "metadata": {},
   "outputs": [],
   "source": []
  },
  {
   "cell_type": "markdown",
   "id": "8765ab13",
   "metadata": {},
   "source": [
    "## **Toolkits**\n",
    "\n",
    "A toolkit is just a collection(bundle) of related tools that serve a common purpose packaged together for convenience and **reusability**. \n",
    "\n",
    "In LangChain: \n",
    "- A toolkit might be: GoogleDriveToolkit\n",
    "- And it can contain the following tools"
   ]
  },
  {
   "cell_type": "code",
   "execution_count": 46,
   "id": "e3776222",
   "metadata": {},
   "outputs": [],
   "source": [
    "from langchain_core.tools import tool \n",
    "\n",
    "@tool \n",
    "def add(a:int, b:int) -> int:\n",
    "    \"\"\"Add two numbers\"\"\"\n",
    "    return a + b\n",
    "\n",
    "@tool \n",
    "def multiply(a:int, b:int) -> int:\n",
    "    \"\"\"Multiply two numbers\"\"\"\n",
    "    return a * b"
   ]
  },
  {
   "cell_type": "code",
   "execution_count": 48,
   "id": "96767666",
   "metadata": {},
   "outputs": [
    {
     "name": "stdout",
     "output_type": "stream",
     "text": [
      "add => Add two numbers\n",
      "multiply => Multiply two numbers\n"
     ]
    }
   ],
   "source": [
    "class MathToolKit:\n",
    "    def get_tools(self):\n",
    "        return [add, multiply]\n",
    "    \n",
    "toolkit = MathToolKit()\n",
    "tools = toolkit.get_tools()\n",
    "    \n",
    "for tool in tools:\n",
    "    print(tool.name, \"=>\", tool.description)"
   ]
  },
  {
   "cell_type": "code",
   "execution_count": null,
   "id": "2a62ae8e",
   "metadata": {},
   "outputs": [],
   "source": []
  }
 ],
 "metadata": {
  "kernelspec": {
   "display_name": "gen_ai",
   "language": "python",
   "name": "python3"
  },
  "language_info": {
   "codemirror_mode": {
    "name": "ipython",
    "version": 3
   },
   "file_extension": ".py",
   "mimetype": "text/x-python",
   "name": "python",
   "nbconvert_exporter": "python",
   "pygments_lexer": "ipython3",
   "version": "3.12.4"
  }
 },
 "nbformat": 4,
 "nbformat_minor": 5
}
