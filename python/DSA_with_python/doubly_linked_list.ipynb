{
 "cells": [
  {
   "cell_type": "code",
   "execution_count": 48,
   "id": "8ef60830-78c5-4417-9cfd-cc7b6dc88de7",
   "metadata": {},
   "outputs": [],
   "source": [
    "class Node:\n",
    "    def __init__(self, prev=None, item=None, next=None):\n",
    "        self.prev = prev\n",
    "        self.item = item\n",
    "        self.next = next"
   ]
  },
  {
   "cell_type": "code",
   "execution_count": 77,
   "id": "9e5bb91b-6b96-4b55-bffb-710b2226157c",
   "metadata": {},
   "outputs": [],
   "source": [
    "class DLL:\n",
    "    def __init__(self, start=None):\n",
    "        self.start = start\n",
    "\n",
    "    def is_empty(self):\n",
    "        return self.start == None\n",
    "\n",
    "    def insert_at_start(self, data):\n",
    "        n = Node(prev=None, item = data, next=self.start)\n",
    "        if not self.is_empty():\n",
    "            self.start.prev = n\n",
    "        self.start = n\n",
    "\n",
    "    def insert_at_last(self, data):\n",
    "        temp = self.start\n",
    "        if self.start is not None:\n",
    "            while temp.next != None:\n",
    "                temp = temp.next\n",
    "        n = Node(prev=temp, item=data, next = None)\n",
    "        if temp == None:\n",
    "            self.start = n\n",
    "        else:\n",
    "            temp.next = n \n",
    "\n",
    "    def search(self, val):\n",
    "        temp = self.start\n",
    "        while temp != None:\n",
    "            if temp.item == val:\n",
    "                return temp\n",
    "            temp = temp.next\n",
    "        return None\n",
    "\n",
    "    def insert_after(self, temp, val):\n",
    "        if temp is not None:\n",
    "            n = Node(prev = temp, item = val, next = temp.next)\n",
    "            if temp.next != None:\n",
    "                temp.next.prev = n\n",
    "            temp.next = n\n",
    "\n",
    "    def delete_start(self):\n",
    "        if self.start is not None:\n",
    "            self.start = self.start.next\n",
    "            if self.start != None:\n",
    "                self.start.prev = None\n",
    "        \n",
    "    def delete_last(self):\n",
    "        if self.start == None:\n",
    "            pass\n",
    "        elif self.start.next is None:\n",
    "            self.start = None\n",
    "        else:\n",
    "            temp = self.start\n",
    "            while temp.next != None:\n",
    "                temp = temp.next\n",
    "            temp.prev.next = None\n",
    "\n",
    "    def delete_item(self, data):\n",
    "        if self.start == None:\n",
    "            print(\"Hii\")\n",
    "            pass\n",
    "        else:\n",
    "            temp = self.start\n",
    "            while temp is not None:\n",
    "                if temp.item == data:\n",
    "                    if temp.next != None:\n",
    "                        temp.next.prev = temp.prev\n",
    "                    if temp.prev is not None:\n",
    "                        temp.prev.next = temp.next\n",
    "                    else:\n",
    "                        self.start = temp.next\n",
    "                    break\n",
    "                temp = temp.next    \n",
    "                    \n",
    "    def print_list(self):\n",
    "        temp = self.start\n",
    "        while temp is not None:\n",
    "            print(temp.item, end=' ')\n",
    "            temp = temp.next"
   ]
  },
  {
   "cell_type": "code",
   "execution_count": 94,
   "id": "00d42ec0-60b3-4f22-b2e9-c487621db44d",
   "metadata": {},
   "outputs": [
    {
     "name": "stdout",
     "output_type": "stream",
     "text": [
      "40 30 70 "
     ]
    }
   ],
   "source": [
    "mylist = DLL()\n",
    "mylist.is_empty()\n",
    "mylist.insert_at_start(20)\n",
    "mylist.insert_at_start(30)\n",
    "mylist.insert_at_start(40)\n",
    "mylist.insert_at_start(50)\n",
    "mylist.insert_at_last(60)\n",
    "mylist.insert_after(temp=mylist.search(20), val = 70)\n",
    "mylist.delete_start()\n",
    "mylist.delete_last()\n",
    "mylist.delete_item(20)\n",
    "mylist.print_list()"
   ]
  },
  {
   "cell_type": "code",
   "execution_count": 95,
   "id": "bbb339b7-d439-4725-8dbd-e19b06accb63",
   "metadata": {},
   "outputs": [
    {
     "name": "stdout",
     "output_type": "stream",
     "text": [
      "40 30 70 "
     ]
    }
   ],
   "source": [
    "mylist.print_list()"
   ]
  },
  {
   "cell_type": "code",
   "execution_count": null,
   "id": "f127b55c-77f1-4920-9991-47e68da0de8f",
   "metadata": {},
   "outputs": [],
   "source": []
  },
  {
   "cell_type": "code",
   "execution_count": null,
   "id": "b5f82bd9-53fb-4f7d-94ec-a57a47b507dd",
   "metadata": {},
   "outputs": [],
   "source": []
  },
  {
   "cell_type": "code",
   "execution_count": null,
   "id": "4bc16709-da3d-4cae-ba78-2b7b2f44c1da",
   "metadata": {},
   "outputs": [],
   "source": []
  },
  {
   "cell_type": "code",
   "execution_count": null,
   "id": "6745b395-e43d-4af9-b409-f7eb37fd3816",
   "metadata": {},
   "outputs": [],
   "source": []
  },
  {
   "cell_type": "code",
   "execution_count": null,
   "id": "e1c20c0c-597e-4b99-ab1f-095caea1f2f7",
   "metadata": {},
   "outputs": [],
   "source": []
  },
  {
   "cell_type": "code",
   "execution_count": null,
   "id": "7a2f4a15-c52b-4263-b4ba-654a3bc05249",
   "metadata": {},
   "outputs": [],
   "source": []
  },
  {
   "cell_type": "code",
   "execution_count": null,
   "id": "86f2f53a-6141-4bf1-9045-fcd35661c7b4",
   "metadata": {},
   "outputs": [],
   "source": []
  },
  {
   "cell_type": "code",
   "execution_count": null,
   "id": "5735165f-5d1c-4ab8-8182-511f817080bf",
   "metadata": {},
   "outputs": [],
   "source": []
  },
  {
   "cell_type": "code",
   "execution_count": 29,
   "id": "1a7f8888-42c5-4871-831d-bc0a300ea0f8",
   "metadata": {},
   "outputs": [],
   "source": [
    "mylist = Node()"
   ]
  },
  {
   "cell_type": "code",
   "execution_count": 30,
   "id": "897c1a37-41ce-4360-99cf-2f280e8caee5",
   "metadata": {},
   "outputs": [],
   "source": [
    "a1 = Node(item=2)\n",
    "a2 = Node(item=3)"
   ]
  },
  {
   "cell_type": "code",
   "execution_count": 31,
   "id": "42d4fcab-629b-4dfe-9c4d-33016e8df4b3",
   "metadata": {},
   "outputs": [],
   "source": [
    "a1.next = a2"
   ]
  },
  {
   "cell_type": "code",
   "execution_count": 32,
   "id": "2ea7810a-4a3f-4ab2-8589-451a9046c6b0",
   "metadata": {},
   "outputs": [
    {
     "data": {
      "text/plain": [
       "<__main__.Node at 0x10736a090>"
      ]
     },
     "execution_count": 32,
     "metadata": {},
     "output_type": "execute_result"
    }
   ],
   "source": [
    "a1"
   ]
  },
  {
   "cell_type": "code",
   "execution_count": null,
   "id": "e697a1a1-edb6-4ba2-be9e-b0a10059eb58",
   "metadata": {},
   "outputs": [],
   "source": []
  },
  {
   "cell_type": "code",
   "execution_count": null,
   "id": "811e0829-383f-4403-93a2-f06228b4f90f",
   "metadata": {},
   "outputs": [],
   "source": []
  },
  {
   "cell_type": "code",
   "execution_count": null,
   "id": "8dcc0c1e-f81b-443c-90f2-7cd21d0201ee",
   "metadata": {},
   "outputs": [],
   "source": []
  }
 ],
 "metadata": {
  "kernelspec": {
   "display_name": "Python 3 (ipykernel)",
   "language": "python",
   "name": "python3"
  },
  "language_info": {
   "codemirror_mode": {
    "name": "ipython",
    "version": 3
   },
   "file_extension": ".py",
   "mimetype": "text/x-python",
   "name": "python",
   "nbconvert_exporter": "python",
   "pygments_lexer": "ipython3",
   "version": "3.12.4"
  }
 },
 "nbformat": 4,
 "nbformat_minor": 5
}
