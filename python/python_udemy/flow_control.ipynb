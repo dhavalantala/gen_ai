{
 "cells": [
  {
   "cell_type": "markdown",
   "metadata": {},
   "source": [
    "# **Flow Comtrol**"
   ]
  },
  {
   "cell_type": "code",
   "execution_count": 1,
   "metadata": {},
   "outputs": [
    {
     "name": "stdout",
     "output_type": "stream",
     "text": [
      "True is true\n"
     ]
    }
   ],
   "source": [
    "if True:\n",
    "    print(\"True is true\")"
   ]
  },
  {
   "cell_type": "code",
   "execution_count": 2,
   "metadata": {},
   "outputs": [],
   "source": [
    "if False:\n",
    "    print(\"False is true\")"
   ]
  },
  {
   "cell_type": "code",
   "execution_count": 4,
   "metadata": {},
   "outputs": [
    {
     "name": "stdout",
     "output_type": "stream",
     "text": [
      "Hello\n"
     ]
    }
   ],
   "source": [
    "if 4 == 4:\n",
    "    print(\"Hello\")"
   ]
  },
  {
   "cell_type": "code",
   "execution_count": 5,
   "metadata": {},
   "outputs": [],
   "source": [
    "import numpy as np"
   ]
  },
  {
   "cell_type": "code",
   "execution_count": 21,
   "metadata": {},
   "outputs": [
    {
     "name": "stdout",
     "output_type": "stream",
     "text": [
      "randum 0.16165436205432743\n",
      "0.16165436205432743\n",
      "3\n",
      "Here\n"
     ]
    }
   ],
   "source": [
    "randum = np.random.randn()\n",
    "\n",
    "print(f\"randum {randum}\")\n",
    "if randum>0:\n",
    "    print(randum)\n",
    "    x = 3\n",
    "    print(x)\n",
    "\n",
    "print(\"Here\")"
   ]
  },
  {
   "cell_type": "code",
   "execution_count": 23,
   "metadata": {},
   "outputs": [
    {
     "name": "stdout",
     "output_type": "stream",
     "text": [
      "1.5355373133433927is positive\n"
     ]
    }
   ],
   "source": [
    "r = np.random.randn()\n",
    "\n",
    "if  r>0:\n",
    "    print(str(r) + 'is positive')\n",
    "else:\n",
    "    print(str(r) + 'is negative')"
   ]
  },
  {
   "cell_type": "code",
   "execution_count": 26,
   "metadata": {},
   "outputs": [
    {
     "name": "stdout",
     "output_type": "stream",
     "text": [
      "cake type not recognized.\n"
     ]
    }
   ],
   "source": [
    "caketype = \"carrot\"\n",
    "caketype = \"chocolate\"\n",
    "caketype = \"dcvsdjhc\"\n",
    "\n",
    "if caketype == \"carrot\":\n",
    "    print(\"Total yumminess!\")\n",
    "elif caketype == \"chocolate\":\n",
    "    print(\"Still quite good.\")\n",
    "elif caketype == \"fruit\":\n",
    "    print(\"Healthy?\")\n",
    "else:\n",
    "    print(\"cake type not recognized.\")"
   ]
  },
  {
   "cell_type": "code",
   "execution_count": 32,
   "metadata": {},
   "outputs": [
    {
     "name": "stdout",
     "output_type": "stream",
     "text": [
      "Probably carrot cake\n",
      "Or not\n"
     ]
    }
   ],
   "source": [
    "caketype = 'Carrot'\n",
    "\n",
    "if caketype[0].lower() == 'c': print(\"Probably carrot cake\")\n",
    "\n",
    "\n",
    "print(\"Probably carrot cake\") if caketype[0] == \"c\" else print(\"Or not\")"
   ]
  },
  {
   "cell_type": "code",
   "execution_count": 38,
   "metadata": {},
   "outputs": [
    {
     "name": "stdout",
     "output_type": "stream",
     "text": [
      "at least one statement is true\n"
     ]
    }
   ],
   "source": [
    "if  10 < 3 or 4 == 4:\n",
    "    print(\"at least one statement is true\")\n"
   ]
  },
  {
   "cell_type": "code",
   "execution_count": 48,
   "metadata": {},
   "outputs": [],
   "source": [
    "def dotproduct(a,b):\n",
    "    ## Check that both vextors are numpy arrays\n",
    "    if  not (isinstance(a, np.ndarray) and isinstance(b, np.ndarray)):\n",
    "        raise Exception(\"Must be numpy array\")\n",
    "\n",
    "    ## check yhat both vectors have the same lebgth\n",
    "    if not (len(a) == len(b)):\n",
    "        raise Exception(\"Must be same length\")\n",
    "\n",
    "    ## return the dot product\n",
    "    return sum(a * b)"
   ]
  },
  {
   "cell_type": "code",
   "execution_count": 49,
   "metadata": {},
   "outputs": [],
   "source": [
    "a = np.array([3,4,2])\n",
    "b = np.array([3,4,1])"
   ]
  },
  {
   "cell_type": "code",
   "execution_count": 50,
   "metadata": {},
   "outputs": [
    {
     "data": {
      "text/plain": [
       "np.int64(27)"
      ]
     },
     "execution_count": 50,
     "metadata": {},
     "output_type": "execute_result"
    }
   ],
   "source": [
    "dotproduct(a, b)"
   ]
  },
  {
   "cell_type": "code",
   "execution_count": 51,
   "metadata": {},
   "outputs": [
    {
     "data": {
      "text/plain": [
       "np.int64(27)"
      ]
     },
     "execution_count": 51,
     "metadata": {},
     "output_type": "execute_result"
    }
   ],
   "source": [
    "np.dot(a,b)"
   ]
  },
  {
   "cell_type": "code",
   "execution_count": 1,
   "metadata": {},
   "outputs": [
    {
     "name": "stdout",
     "output_type": "stream",
     "text": [
      "0\n",
      "1\n",
      "2\n",
      "3\n",
      "4\n",
      "5\n",
      "6\n"
     ]
    }
   ],
   "source": [
    "for i in range(7):\n",
    "    print(i)"
   ]
  },
  {
   "cell_type": "code",
   "execution_count": 3,
   "metadata": {},
   "outputs": [
    {
     "name": "stdout",
     "output_type": "stream",
     "text": [
      "4 16\n",
      "5 25\n",
      "6 36\n",
      "7 49\n",
      "8 64\n",
      "9 81\n"
     ]
    }
   ],
   "source": [
    "for j in range(4, 10):\n",
    "    print(j, j**2)"
   ]
  },
  {
   "cell_type": "code",
   "execution_count": 8,
   "metadata": {},
   "outputs": [
    {
     "name": "stdout",
     "output_type": "stream",
     "text": [
      "Interation 1 has a numbers value of 3.0\n",
      "Interation 2 has a numbers value of 3.6666666666666665\n",
      "Interation 3 has a numbers value of 4.333333333333333\n",
      "Interation 4 has a numbers value of 5.0\n",
      "Interation 5 has a numbers value of 5.666666666666666\n",
      "Interation 6 has a numbers value of 6.333333333333333\n",
      "Interation 7 has a numbers value of 7.0\n",
      "Interation 8 has a numbers value of 7.666666666666666\n",
      "Interation 9 has a numbers value of 8.333333333333332\n",
      "Interation 10 has a numbers value of 9.0\n",
      "Interation 11 has a numbers value of 9.666666666666666\n",
      "Interation 12 has a numbers value of 10.333333333333332\n",
      "Interation 13 has a numbers value of 11.0\n",
      "Interation 14 has a numbers value of 11.666666666666666\n",
      "Interation 15 has a numbers value of 12.333333333333332\n",
      "Interation 16 has a numbers value of 13.0\n",
      "Interation 17 has a numbers value of 13.666666666666666\n",
      "Interation 18 has a numbers value of 14.333333333333332\n",
      "Interation 19 has a numbers value of 15.0\n",
      "Interation 20 has a numbers value of 15.666666666666666\n",
      "Interation 21 has a numbers value of 16.333333333333332\n",
      "Interation 22 has a numbers value of 17.0\n"
     ]
    }
   ],
   "source": [
    "import numpy as np\n",
    "\n",
    "numbers = np.linspace(3, 17, 22)\n",
    "\n",
    "for i in range(len(numbers)):\n",
    "    x = numbers[i]\n",
    "\n",
    "    print('Interation ' + str(i+1) + ' has a numbers value of ' + str(x))"
   ]
  },
  {
   "cell_type": "code",
   "execution_count": 9,
   "metadata": {},
   "outputs": [],
   "source": [
    "## soft-- coding vs hard coding\n",
    "\n",
    "## 100s of lines of code....\n",
    "\n",
    "for i in range(100):\n",
    "    pass"
   ]
  },
  {
   "cell_type": "code",
   "execution_count": 14,
   "metadata": {},
   "outputs": [
    {
     "name": "stdout",
     "output_type": "stream",
     "text": [
      "0 is even number\n",
      "1 is odd number\n",
      "2 is even number\n",
      "3 is odd number\n",
      "4 is even number\n",
      "5 is odd number\n",
      "6 is even number\n",
      "7 is odd number\n",
      "8 is even number\n",
      "9 is odd number\n",
      "10 is even number\n",
      "11 is odd number\n",
      "12 is even number\n",
      "13 is odd number\n",
      "14 is even number\n",
      "15 is odd number\n",
      "16 is even number\n",
      "17 is odd number\n"
     ]
    }
   ],
   "source": [
    "## Modulus (reminder after division)\n",
    "\n",
    "# 6%2 , 6/2, 7%2, \n",
    "\n",
    "for n in range(18):\n",
    "    if n%2==0:\n",
    "        print(str(n) + ' is even number')\n",
    "    else:\n",
    "        print(str(n) + ' is odd number')"
   ]
  },
  {
   "cell_type": "code",
   "execution_count": 16,
   "metadata": {},
   "outputs": [],
   "source": [
    "def fibonacci(n):\n",
    "    list = [0, 1, 1]\n",
    "    for i in range(n):\n",
    "        list.append(sum(list[-2:]))\n",
    "\n",
    "    return list"
   ]
  },
  {
   "cell_type": "code",
   "execution_count": 17,
   "metadata": {},
   "outputs": [
    {
     "data": {
      "text/plain": [
       "[0, 1, 1, 2, 3, 5, 8]"
      ]
     },
     "execution_count": 17,
     "metadata": {},
     "output_type": "execute_result"
    }
   ],
   "source": [
    "fibonacci(4)"
   ]
  },
  {
   "cell_type": "code",
   "execution_count": 22,
   "metadata": {},
   "outputs": [
    {
     "data": {
      "text/plain": [
       "list[1, 2, 3, 4, 5, 6, 7]"
      ]
     },
     "execution_count": 22,
     "metadata": {},
     "output_type": "execute_result"
    }
   ],
   "source": [
    "list [1,2,3,4,5,6,7]"
   ]
  },
  {
   "cell_type": "code",
   "execution_count": 33,
   "metadata": {},
   "outputs": [
    {
     "name": "stdout",
     "output_type": "stream",
     "text": [
      "1\n",
      "3\n",
      "5\n",
      "7\n",
      "9\n"
     ]
    }
   ],
   "source": [
    "for i in range(10):\n",
    "    if i%2 == 0:\n",
    "        continue  ## skipping the values\n",
    "    print(i)"
   ]
  },
  {
   "cell_type": "code",
   "execution_count": 37,
   "metadata": {},
   "outputs": [
    {
     "name": "stdout",
     "output_type": "stream",
     "text": [
      "H\n",
      "l\n",
      "l\n",
      ",\n",
      " \n",
      "m\n",
      "y\n",
      " \n",
      "n\n",
      "m\n",
      " \n",
      "s\n",
      " \n",
      "D\n",
      "h\n",
      "V\n",
      "L\n"
     ]
    }
   ],
   "source": [
    "text = \"HellO, my name is DhaVaL\"\n",
    "\n",
    "for i in text:\n",
    "    if i.lower() in 'aeiou':\n",
    "        continue\n",
    "    print(i)"
   ]
  },
  {
   "cell_type": "markdown",
   "metadata": {},
   "source": [
    "## While loop\n",
    "\n",
    "\n",
    "``` Python\n",
    "\n",
    "While \"Condition\":\n",
    "    code goes here its run until condition is True\n",
    "\n",
    "```"
   ]
  },
  {
   "cell_type": "code",
   "execution_count": 38,
   "metadata": {},
   "outputs": [
    {
     "name": "stdout",
     "output_type": "stream",
     "text": [
      "0\n",
      "1\n",
      "2\n",
      "3\n",
      "4\n",
      "5\n",
      "6\n",
      "7\n"
     ]
    }
   ],
   "source": [
    "toggle = True\n",
    "i = 0\n",
    "\n",
    "while toggle:\n",
    "    \n",
    "    print(i)\n",
    "    i += 1\n",
    "\n",
    "    if i==8:\n",
    "        toggle = False"
   ]
  },
  {
   "cell_type": "code",
   "execution_count": null,
   "metadata": {},
   "outputs": [],
   "source": [
    "toggle = True\n",
    "i = 0\n",
    "\n",
    "while toggle:\n",
    "    \n",
    "    print(i)\n",
    "    if i==8:\n",
    "        i += 1   ## infinet loop\n",
    "        toggle = False"
   ]
  },
  {
   "cell_type": "code",
   "execution_count": 40,
   "metadata": {},
   "outputs": [
    {
     "name": "stdout",
     "output_type": "stream",
     "text": [
      "0\n",
      "1\n",
      "2\n",
      "3\n",
      "4\n",
      "5\n",
      "6\n",
      "7\n"
     ]
    }
   ],
   "source": [
    "i = 0\n",
    "\n",
    "while True:\n",
    "    print(i)\n",
    "    i += 1\n",
    "    if i == 8:\n",
    "        break"
   ]
  },
  {
   "cell_type": "code",
   "execution_count": 41,
   "metadata": {},
   "outputs": [
    {
     "name": "stdout",
     "output_type": "stream",
     "text": [
      "0\n",
      "1\n",
      "2\n",
      "3\n",
      "4\n",
      "5\n",
      "6\n",
      "7\n"
     ]
    }
   ],
   "source": [
    "i = 0 \n",
    "\n",
    "while i < 8:\n",
    "    print(i)\n",
    "    i += 1"
   ]
  },
  {
   "cell_type": "markdown",
   "metadata": {},
   "source": [
    "## for--loop: prefer when you know in advance the number of interations\n",
    "## While--loop: prefer when you don't know in advance the number of interations"
   ]
  },
  {
   "cell_type": "code",
   "execution_count": 42,
   "metadata": {},
   "outputs": [],
   "source": [
    "def poissonCounter(lam):\n",
    "\n",
    "    ## initialize some variables\n",
    "    counter, curvall = 0, 1\n",
    "\n",
    "    target = np.exp(-lam)\n",
    "\n",
    "    ## run algorithm\n",
    "    while curvall > target:\n",
    "        counter += 1\n",
    "        curvall *= np.random.rand()\n",
    "\n",
    "    ## return the rsult (counter) \n",
    "    return counter"
   ]
  },
  {
   "cell_type": "code",
   "execution_count": 50,
   "metadata": {},
   "outputs": [
    {
     "data": {
      "text/plain": [
       "array([ 7.,  8., 16.,  9.,  6.,  8., 13., 12., 14., 14., 14., 15., 11.,\n",
       "       10., 12., 12., 12., 10., 13., 19., 10.,  7., 13.,  7., 14.,  6.,\n",
       "       10., 12., 15., 14., 11.,  5., 17., 14.,  9.,  8., 10.,  6.,  8.,\n",
       "        8., 12., 12., 13., 15., 14.,  8., 10.,  9., 14., 17., 11., 13.,\n",
       "        6.,  9., 17., 12.,  6., 11., 13., 10., 13., 11.,  6., 17., 12.,\n",
       "       16., 10., 12., 15., 12., 10., 16.,  8., 14., 11., 11.,  7., 16.,\n",
       "       11., 10.,  6.,  6., 14.,  9., 21.,  9., 19., 14.,  9., 12., 12.,\n",
       "       11., 13., 11.,  8.,  9., 11.,  8., 13., 12.])"
      ]
     },
     "execution_count": 50,
     "metadata": {},
     "output_type": "execute_result"
    }
   ],
   "source": [
    "p = np.zeros(100)\n",
    "\n",
    "for i in range(100):\n",
    "    p[i] = poissonCounter(10)\n",
    "p"
   ]
  },
  {
   "cell_type": "code",
   "execution_count": 80,
   "metadata": {},
   "outputs": [],
   "source": [
    "## same functionality but hard to read\n",
    "\n",
    "def poissonCounter(l):\n",
    "    k, p, t = 0, 1, np.exp(-l)\n",
    "\n",
    "    while p > t:\n",
    "        k += 1\n",
    "        p *= np.random.rand()\n",
    "        # print(p)\n",
    "\n",
    "    return k"
   ]
  },
  {
   "cell_type": "code",
   "execution_count": 81,
   "metadata": {},
   "outputs": [
    {
     "data": {
      "text/plain": [
       "np.float64(4.5399929762484854e-05)"
      ]
     },
     "execution_count": 81,
     "metadata": {},
     "output_type": "execute_result"
    }
   ],
   "source": [
    "np.exp(-10)"
   ]
  },
  {
   "cell_type": "code",
   "execution_count": 82,
   "metadata": {},
   "outputs": [
    {
     "data": {
      "text/plain": [
       "8"
      ]
     },
     "execution_count": 82,
     "metadata": {},
     "output_type": "execute_result"
    }
   ],
   "source": [
    "poissonCounter(10)"
   ]
  },
  {
   "cell_type": "code",
   "execution_count": 84,
   "metadata": {},
   "outputs": [
    {
     "ename": "NameError",
     "evalue": "name 'r' is not defined",
     "output_type": "error",
     "traceback": [
      "\u001b[31m---------------------------------------------------------------------------\u001b[39m",
      "\u001b[31mNameError\u001b[39m                                 Traceback (most recent call last)",
      "\u001b[36mCell\u001b[39m\u001b[36m \u001b[39m\u001b[32mIn[84]\u001b[39m\u001b[32m, line 4\u001b[39m\n\u001b[32m      1\u001b[39m \u001b[38;5;66;03m## initialization\u001b[39;00m\n\u001b[32m      3\u001b[39m \u001b[38;5;28;01mfor\u001b[39;00m i \u001b[38;5;129;01min\u001b[39;00m \u001b[38;5;28mrange\u001b[39m(\u001b[32m10\u001b[39m):\n\u001b[32m----> \u001b[39m\u001b[32m4\u001b[39m     \u001b[43mr\u001b[49m[i] = i **\u001b[32m2\u001b[39m\n\u001b[32m      6\u001b[39m \u001b[38;5;28mprint\u001b[39m(r)\n",
      "\u001b[31mNameError\u001b[39m: name 'r' is not defined"
     ]
    }
   ],
   "source": [
    "## initialization\n",
    "\n",
    "for i in range(10):\n",
    "    r[i] = i **2\n",
    "\n",
    "print(r)"
   ]
  },
  {
   "cell_type": "code",
   "execution_count": 106,
   "metadata": {},
   "outputs": [
    {
     "name": "stdout",
     "output_type": "stream",
     "text": [
      "[  0.   1.   4.   9.  16.  25.  36.  49.  64.  81. 100. 121. 144. 169.\n",
      " 196. 225. 256. 289. 324. 361. 400. 441. 484. 529. 576. 625. 676. 729.\n",
      " 784. 841. 900. 961.]\n"
     ]
    }
   ],
   "source": [
    "n = 32\n",
    "\n",
    "r = np.zeros(n)\n",
    "for i in range(n):\n",
    "    r[i] = i **2\n",
    "\n",
    "print(r)"
   ]
  },
  {
   "cell_type": "code",
   "execution_count": null,
   "metadata": {},
   "outputs": [
    {
     "data": {
      "text/plain": [
       "array([12.1232434, 12.1232434, 12.1232434, 12.1232434, 12.1232434,\n",
       "       12.1232434, 12.1232434, 12.1232434, 12.1232434, 12.1232434])"
      ]
     },
     "execution_count": 118,
     "metadata": {},
     "output_type": "execute_result"
    }
   ],
   "source": [
    "r = 10\n",
    "n = np.zeros(r)\n",
    "n = np.full(r, 12.1232434) \n",
    "n"
   ]
  },
  {
   "cell_type": "code",
   "execution_count": 128,
   "metadata": {},
   "outputs": [
    {
     "data": {
      "text/plain": [
       "[0,\n",
       " 1,\n",
       " 4,\n",
       " 9,\n",
       " 16,\n",
       " 25,\n",
       " 36,\n",
       " 49,\n",
       " 64,\n",
       " 81,\n",
       " 100,\n",
       " 121,\n",
       " 144,\n",
       " 169,\n",
       " 196,\n",
       " 225,\n",
       " 256,\n",
       " 289,\n",
       " 324,\n",
       " 361]"
      ]
     },
     "execution_count": 128,
     "metadata": {},
     "output_type": "execute_result"
    }
   ],
   "source": [
    "# del r\n",
    "\n",
    "r = []\n",
    "n = 20\n",
    "\n",
    "for i in range(n):\n",
    "    r.append(i**2)\n",
    "r"
   ]
  },
  {
   "cell_type": "code",
   "execution_count": 132,
   "metadata": {},
   "outputs": [
    {
     "data": {
      "text/plain": [
       "array([  0.,   1.,   4.,   9.,  16.,  25.,  36.,  49.,  64.,  81., 100.,\n",
       "       121., 144., 169., 196., 225., 256., 289., 324., 361.])"
      ]
     },
     "execution_count": 132,
     "metadata": {},
     "output_type": "execute_result"
    }
   ],
   "source": [
    "r = np.array([])\n",
    "n = 20\n",
    "\n",
    "for i in range(n):\n",
    "    r = np.append(r, i**2)\n",
    "r"
   ]
  },
  {
   "cell_type": "code",
   "execution_count": 137,
   "metadata": {},
   "outputs": [
    {
     "data": {
      "text/plain": [
       "array([[0., 0., 0., 0., 0.],\n",
       "       [0., 0., 0., 8., 0.],\n",
       "       [0., 0., 0., 0., 0.],\n",
       "       [0., 0., 0., 0., 0.]])"
      ]
     },
     "execution_count": 137,
     "metadata": {},
     "output_type": "execute_result"
    }
   ],
   "source": [
    "r = np.zeros((4,5))\n",
    "r[1,3] = 8\n",
    "r"
   ]
  },
  {
   "cell_type": "code",
   "execution_count": 149,
   "metadata": {},
   "outputs": [
    {
     "data": {
      "text/plain": [
       "93.28554099192843"
      ]
     },
     "execution_count": 149,
     "metadata": {},
     "output_type": "execute_result"
    }
   ],
   "source": [
    "import time\n",
    "\n",
    "N = 1000000\n",
    "\n",
    "tic = time.perf_counter()\n",
    "r = []\n",
    "\n",
    "for i in range(N):\n",
    "    r.append(i**2)\n",
    "t = (time.perf_counter() - tic) * 1000\n",
    "t"
   ]
  },
  {
   "cell_type": "code",
   "execution_count": null,
   "metadata": {},
   "outputs": [],
   "source": [
    "N = 1000000\n",
    "\n",
    "tic = time.perf_counter()\n",
    "r = np.array([])\n",
    "\n",
    "for i in range(N):\n",
    "    r = np.append(r, i**2)\n",
    "t = (time.perf_counter() - tic) * 1000\n",
    "t"
   ]
  },
  {
   "cell_type": "code",
   "execution_count": 151,
   "metadata": {},
   "outputs": [
    {
     "data": {
      "text/plain": [
       "147.33187499223277"
      ]
     },
     "execution_count": 151,
     "metadata": {},
     "output_type": "execute_result"
    }
   ],
   "source": [
    "N = 1000000\n",
    "\n",
    "tic = time.perf_counter()\n",
    "r = np.zeros(N)\n",
    "\n",
    "for i in range(N):\n",
    "    r[i] = i**2\n",
    "t = (time.perf_counter() - tic) * 1000\n",
    "t"
   ]
  },
  {
   "cell_type": "markdown",
   "metadata": {},
   "source": [
    "#### Function error checking"
   ]
  },
  {
   "cell_type": "code",
   "execution_count": 191,
   "metadata": {},
   "outputs": [
    {
     "data": {
      "text/plain": [
       "'hihihi'"
      ]
     },
     "execution_count": 191,
     "metadata": {},
     "output_type": "execute_result"
    }
   ],
   "source": [
    "def funfun(x, y):\n",
    "\n",
    "    # check that inputs are numeric\n",
    "    if not isinstance(x, (int, float)):\n",
    "        if isinstance (x, str) and x.isnumeric():\n",
    "            x = float(x)\n",
    "            print(type(x))\n",
    "            print(\"Note: converted x to float\")\n",
    "        else:\n",
    "            raise Exception(\"Input x must be a number\")\n",
    "    z = x * y\n",
    "\n",
    "    return z\n",
    "funfun(3,'hi')"
   ]
  },
  {
   "cell_type": "code",
   "execution_count": 192,
   "metadata": {},
   "outputs": [
    {
     "ename": "Exception",
     "evalue": "Input x must be a number",
     "output_type": "error",
     "traceback": [
      "\u001b[31m---------------------------------------------------------------------------\u001b[39m",
      "\u001b[31mException\u001b[39m                                 Traceback (most recent call last)",
      "\u001b[36mCell\u001b[39m\u001b[36m \u001b[39m\u001b[32mIn[192]\u001b[39m\u001b[32m, line 1\u001b[39m\n\u001b[32m----> \u001b[39m\u001b[32m1\u001b[39m \u001b[43mfunfun\u001b[49m\u001b[43m(\u001b[49m\u001b[33;43m'\u001b[39;49m\u001b[33;43mdfhjb\u001b[39;49m\u001b[33;43m'\u001b[39;49m\u001b[43m,\u001b[49m\u001b[43m \u001b[49m\u001b[32;43m5\u001b[39;49m\u001b[43m)\u001b[49m\n",
      "\u001b[36mCell\u001b[39m\u001b[36m \u001b[39m\u001b[32mIn[191]\u001b[39m\u001b[32m, line 10\u001b[39m, in \u001b[36mfunfun\u001b[39m\u001b[34m(x, y)\u001b[39m\n\u001b[32m      8\u001b[39m         \u001b[38;5;28mprint\u001b[39m(\u001b[33m\"\u001b[39m\u001b[33mNote: converted x to float\u001b[39m\u001b[33m\"\u001b[39m)\n\u001b[32m      9\u001b[39m     \u001b[38;5;28;01melse\u001b[39;00m:\n\u001b[32m---> \u001b[39m\u001b[32m10\u001b[39m         \u001b[38;5;28;01mraise\u001b[39;00m \u001b[38;5;167;01mException\u001b[39;00m(\u001b[33m\"\u001b[39m\u001b[33mInput x must be a number\u001b[39m\u001b[33m\"\u001b[39m)\n\u001b[32m     11\u001b[39m z = x * y\n\u001b[32m     13\u001b[39m \u001b[38;5;28;01mreturn\u001b[39;00m z\n",
      "\u001b[31mException\u001b[39m: Input x must be a number"
     ]
    }
   ],
   "source": [
    "funfun('dfhjb', 5)"
   ]
  },
  {
   "cell_type": "code",
   "execution_count": 193,
   "metadata": {},
   "outputs": [
    {
     "name": "stdout",
     "output_type": "stream",
     "text": [
      "<class 'float'>\n",
      "Note: converted x to float\n"
     ]
    },
    {
     "data": {
      "text/plain": [
       "10.0"
      ]
     },
     "execution_count": 193,
     "metadata": {},
     "output_type": "execute_result"
    }
   ],
   "source": [
    "funfun(\"2\", 5)"
   ]
  },
  {
   "cell_type": "code",
   "execution_count": 197,
   "metadata": {},
   "outputs": [],
   "source": [
    "def funfunfun(x, y):\n",
    "    try:\n",
    "        z = x**y\n",
    "    except:\n",
    "        print(\"Couldn't complete the mission\")\n",
    "\n",
    "    return z"
   ]
  },
  {
   "cell_type": "code",
   "execution_count": 198,
   "metadata": {},
   "outputs": [
    {
     "data": {
      "text/plain": [
       "81"
      ]
     },
     "execution_count": 198,
     "metadata": {},
     "output_type": "execute_result"
    }
   ],
   "source": [
    "funfunfun(3,4)"
   ]
  },
  {
   "cell_type": "code",
   "execution_count": 199,
   "metadata": {},
   "outputs": [
    {
     "name": "stdout",
     "output_type": "stream",
     "text": [
      "Couldn't complete the mission\n"
     ]
    },
    {
     "ename": "UnboundLocalError",
     "evalue": "cannot access local variable 'z' where it is not associated with a value",
     "output_type": "error",
     "traceback": [
      "\u001b[31m---------------------------------------------------------------------------\u001b[39m",
      "\u001b[31mUnboundLocalError\u001b[39m                         Traceback (most recent call last)",
      "\u001b[36mCell\u001b[39m\u001b[36m \u001b[39m\u001b[32mIn[199]\u001b[39m\u001b[32m, line 1\u001b[39m\n\u001b[32m----> \u001b[39m\u001b[32m1\u001b[39m \u001b[43mfunfunfun\u001b[49m\u001b[43m(\u001b[49m\u001b[32;43m3\u001b[39;49m\u001b[43m,\u001b[49m\u001b[33;43m'\u001b[39;49m\u001b[33;43m4\u001b[39;49m\u001b[33;43m'\u001b[39;49m\u001b[43m)\u001b[49m\n",
      "\u001b[36mCell\u001b[39m\u001b[36m \u001b[39m\u001b[32mIn[197]\u001b[39m\u001b[32m, line 7\u001b[39m, in \u001b[36mfunfunfun\u001b[39m\u001b[34m(x, y)\u001b[39m\n\u001b[32m      4\u001b[39m \u001b[38;5;28;01mexcept\u001b[39;00m:\n\u001b[32m      5\u001b[39m     \u001b[38;5;28mprint\u001b[39m(\u001b[33m\"\u001b[39m\u001b[33mCouldn\u001b[39m\u001b[33m'\u001b[39m\u001b[33mt complete the mission\u001b[39m\u001b[33m\"\u001b[39m)\n\u001b[32m----> \u001b[39m\u001b[32m7\u001b[39m \u001b[38;5;28;01mreturn\u001b[39;00m \u001b[43mz\u001b[49m\n",
      "\u001b[31mUnboundLocalError\u001b[39m: cannot access local variable 'z' where it is not associated with a value"
     ]
    }
   ],
   "source": [
    "funfunfun(3,'4')"
   ]
  },
  {
   "cell_type": "code",
   "execution_count": 212,
   "metadata": {},
   "outputs": [
    {
     "name": "stdout",
     "output_type": "stream",
     "text": [
      "a 3\n",
      "b 4\n",
      "c 5\n",
      "d 6\n"
     ]
    }
   ],
   "source": [
    "somelist = [3,4,5,6]\n",
    "otherlist = ['a', 'b', 'c', 'd']\n",
    "\n",
    "for j, i in zip(somelist, otherlist):\n",
    "    print(i, j)"
   ]
  },
  {
   "cell_type": "code",
   "execution_count": 213,
   "metadata": {},
   "outputs": [
    {
     "data": {
      "text/plain": [
       "<zip at 0x12345b880>"
      ]
     },
     "execution_count": 213,
     "metadata": {},
     "output_type": "execute_result"
    }
   ],
   "source": [
    "z = zip(somelist, otherlist)\n",
    "z"
   ]
  },
  {
   "cell_type": "code",
   "execution_count": 214,
   "metadata": {},
   "outputs": [],
   "source": [
    "lz = list(z)"
   ]
  },
  {
   "cell_type": "code",
   "execution_count": 215,
   "metadata": {},
   "outputs": [
    {
     "data": {
      "text/plain": [
       "[(3, 'a'), (4, 'b'), (5, 'c'), (6, 'd')]"
      ]
     },
     "execution_count": 215,
     "metadata": {},
     "output_type": "execute_result"
    }
   ],
   "source": [
    "lz"
   ]
  },
  {
   "cell_type": "code",
   "execution_count": 216,
   "metadata": {},
   "outputs": [],
   "source": [
    "dic = {\"a\": 1, \"b\":2}"
   ]
  },
  {
   "cell_type": "code",
   "execution_count": 218,
   "metadata": {},
   "outputs": [
    {
     "name": "stdout",
     "output_type": "stream",
     "text": [
      "a\n",
      "b\n"
     ]
    }
   ],
   "source": [
    "for key in dic:\n",
    "    print(key)"
   ]
  },
  {
   "cell_type": "code",
   "execution_count": 222,
   "metadata": {},
   "outputs": [
    {
     "name": "stdout",
     "output_type": "stream",
     "text": [
      "\n",
      "\n"
     ]
    }
   ],
   "source": [
    "for key, val in dic.items():\n",
    "    print()"
   ]
  },
  {
   "cell_type": "code",
   "execution_count": 230,
   "metadata": {},
   "outputs": [
    {
     "data": {
      "text/plain": [
       "{'alpha': 10, 'beta': 20, 'gamma': 30}"
      ]
     },
     "execution_count": 230,
     "metadata": {},
     "output_type": "execute_result"
    }
   ],
   "source": [
    "names = ['alpha', 'beta', 'gamma']\n",
    "values = [10, 20, 30]\n",
    "\n",
    "D = dict()\n",
    "for i in zip(names, values):\n",
    "    D.update(zip(names, values))\n",
    "D"
   ]
  },
  {
   "cell_type": "code",
   "execution_count": null,
   "metadata": {},
   "outputs": [],
   "source": []
  },
  {
   "cell_type": "code",
   "execution_count": 241,
   "metadata": {},
   "outputs": [
    {
     "name": "stdout",
     "output_type": "stream",
     "text": [
      "This is number is big\n"
     ]
    }
   ],
   "source": [
    "## Reminder \n",
    "\n",
    "import random\n",
    "\n",
    "# if random.randint(1, 10) > 5 : print(\"This is a large number\")\n",
    "\n",
    "print(\"This is number is samll\") if random.randint(1, 10) < 5 else print(\"This is number is big\")"
   ]
  },
  {
   "cell_type": "code",
   "execution_count": 242,
   "metadata": {},
   "outputs": [
    {
     "name": "stdout",
     "output_type": "stream",
     "text": [
      "0\n",
      "1\n",
      "4\n",
      "9\n",
      "16\n",
      "25\n",
      "36\n",
      "49\n",
      "64\n",
      "81\n"
     ]
    }
   ],
   "source": [
    "for i in range(10):\n",
    "    print(i**2)"
   ]
  },
  {
   "cell_type": "code",
   "execution_count": null,
   "metadata": {},
   "outputs": [
    {
     "name": "stdout",
     "output_type": "stream",
     "text": [
      "0\n",
      "1\n",
      "4\n",
      "9\n",
      "16\n",
      "25\n",
      "36\n",
      "49\n",
      "64\n",
      "81\n"
     ]
    },
    {
     "data": {
      "text/plain": [
       "[None, None, None, None, None, None, None, None, None, None]"
      ]
     },
     "execution_count": 245,
     "metadata": {},
     "output_type": "execute_result"
    }
   ],
   "source": [
    "[print(i**2) for i in range(10)]"
   ]
  },
  {
   "cell_type": "code",
   "execution_count": 247,
   "metadata": {},
   "outputs": [
    {
     "data": {
      "text/plain": [
       "[33.55051025721682, 46.35424868893541, 61.17157287525381, 78.0]"
      ]
     },
     "execution_count": 247,
     "metadata": {},
     "output_type": "execute_result"
    }
   ],
   "source": [
    "n = [i**2 - i**(1/2) for i in range(10) if i > 5]\n",
    "n"
   ]
  },
  {
   "cell_type": "code",
   "execution_count": 249,
   "metadata": {},
   "outputs": [
    {
     "data": {
      "text/plain": [
       "33.55051025721682"
      ]
     },
     "execution_count": 249,
     "metadata": {},
     "output_type": "execute_result"
    }
   ],
   "source": [
    "6**2 - 6**(1/2)"
   ]
  },
  {
   "cell_type": "code",
   "execution_count": 250,
   "metadata": {},
   "outputs": [
    {
     "name": "stdout",
     "output_type": "stream",
     "text": [
      "P\n",
      "Y\n",
      "t\n",
      "h\n",
      "o\n",
      "N\n"
     ]
    }
   ],
   "source": [
    "text = [\"Promising\", \"Yves\", \"that\", \"home\", \"on\", \"Nobb\"]\n",
    "\n",
    "for word in text:\n",
    "    print(word[0])"
   ]
  },
  {
   "cell_type": "code",
   "execution_count": 252,
   "metadata": {},
   "outputs": [
    {
     "name": "stdout",
     "output_type": "stream",
     "text": [
      "P\n",
      "Y\n",
      "t\n",
      "h\n",
      "o\n",
      "N\n"
     ]
    }
   ],
   "source": [
    "[print(word[0]) for word in text];"
   ]
  },
  {
   "cell_type": "code",
   "execution_count": 255,
   "metadata": {},
   "outputs": [
    {
     "data": {
      "text/plain": [
       "[0, 'Odd', 2, 'Odd', 4, 'Odd', 6, 'Odd', 8, 'Odd']"
      ]
     },
     "execution_count": 255,
     "metadata": {},
     "output_type": "execute_result"
    }
   ],
   "source": [
    "newlist = ['']*10\n",
    "\n",
    "# [newlist[i] = 'Odd' for i in range(10) if i%2 == 1 else newlist[i] = i ];\n",
    "\n",
    "[ 'Odd' if i%2 == 1 else i for i in range(10)]"
   ]
  },
  {
   "cell_type": "code",
   "execution_count": 256,
   "metadata": {},
   "outputs": [
    {
     "data": {
      "text/plain": [
       "(array([-3. , -2.4, -1.8, -1.2, -0.6,  0. ,  0.6,  1.2,  1.8,  2.4,  3. ]),\n",
       " array([9.  , 5.76, 3.24, 1.44, 0.36, 0.  , 0.36, 1.44, 3.24, 5.76, 9.  ]))"
      ]
     },
     "execution_count": 256,
     "metadata": {},
     "output_type": "execute_result"
    }
   ],
   "source": [
    "x1 = np.linspace(-3, 3, 11)\n",
    "y1 = x1 **2\n",
    "x1, y1"
   ]
  },
  {
   "cell_type": "code",
   "execution_count": 266,
   "metadata": {},
   "outputs": [
    {
     "data": {
      "text/plain": [
       "([-3.0,\n",
       "  -2.4,\n",
       "  -1.7999999999999998,\n",
       "  -1.2,\n",
       "  -0.6,\n",
       "  0.0,\n",
       "  0.6,\n",
       "  1.2,\n",
       "  1.7999999999999998,\n",
       "  2.4,\n",
       "  3.0],\n",
       " [9.0,\n",
       "  5.76,\n",
       "  3.2399999999999993,\n",
       "  1.44,\n",
       "  0.36,\n",
       "  0.0,\n",
       "  0.36,\n",
       "  1.44,\n",
       "  3.2399999999999993,\n",
       "  5.76,\n",
       "  9.0])"
      ]
     },
     "execution_count": 266,
     "metadata": {},
     "output_type": "execute_result"
    }
   ],
   "source": [
    "x1 = [ i/(5/3) for i in range(-5, 6)]\n",
    "y1 = [ i**2 for i in x1 ]\n",
    "\n",
    "x1, y1"
   ]
  },
  {
   "cell_type": "code",
   "execution_count": 281,
   "metadata": {},
   "outputs": [],
   "source": [
    "import copy\n",
    "\n",
    "X = np.array([ [1,2,3],\n",
    "               [2,3,4],\n",
    "               [3,4,5],\n",
    "               [4,5,6] ])\n",
    "\n",
    "w = np.array([10, 20, 30])\n",
    "\n",
    "Y = copy.deepcopy(X)\n",
    "for i in range(X.shape[0]):\n",
    "    Y[i, :] = Y[i, :] + w"
   ]
  },
  {
   "cell_type": "code",
   "execution_count": 282,
   "metadata": {},
   "outputs": [
    {
     "data": {
      "text/plain": [
       "(array([[11, 22, 33],\n",
       "        [12, 23, 34],\n",
       "        [13, 24, 35],\n",
       "        [14, 25, 36]]),\n",
       " array([[1, 2, 3],\n",
       "        [2, 3, 4],\n",
       "        [3, 4, 5],\n",
       "        [4, 5, 6]]))"
      ]
     },
     "execution_count": 282,
     "metadata": {},
     "output_type": "execute_result"
    }
   ],
   "source": [
    "Y, X"
   ]
  },
  {
   "cell_type": "code",
   "execution_count": 284,
   "metadata": {},
   "outputs": [
    {
     "data": {
      "text/plain": [
       "array([[11, 22, 33],\n",
       "       [12, 23, 34],\n",
       "       [13, 24, 35],\n",
       "       [14, 25, 36]])"
      ]
     },
     "execution_count": 284,
     "metadata": {},
     "output_type": "execute_result"
    }
   ],
   "source": [
    "Y = X + w\n",
    "Y"
   ]
  },
  {
   "cell_type": "code",
   "execution_count": 290,
   "metadata": {},
   "outputs": [
    {
     "data": {
      "text/plain": [
       "array([[-1, -2, -3],\n",
       "       [ 0,  0,  0],\n",
       "       [ 3,  4,  5],\n",
       "       [ 0,  0,  0]])"
      ]
     },
     "execution_count": 290,
     "metadata": {},
     "output_type": "execute_result"
    }
   ],
   "source": [
    "w = np.array([-1, 0, 1, 0], ndmin=2).T\n",
    "\n",
    "X*w"
   ]
  },
  {
   "cell_type": "code",
   "execution_count": 291,
   "metadata": {},
   "outputs": [
    {
     "data": {
      "text/plain": [
       "[0, 1, 2, 3, 4, 5, 6, 7, 8]"
      ]
     },
     "execution_count": 291,
     "metadata": {},
     "output_type": "execute_result"
    }
   ],
   "source": [
    "list = []\n",
    "for i in  range(9):\n",
    "    list.append(i)\n",
    "list"
   ]
  },
  {
   "cell_type": "code",
   "execution_count": 293,
   "metadata": {},
   "outputs": [
    {
     "data": {
      "text/plain": [
       "array([0, 1, 2, 3, 4, 5, 6, 7, 8])"
      ]
     },
     "execution_count": 293,
     "metadata": {},
     "output_type": "execute_result"
    }
   ],
   "source": [
    "v = np.arange(9)\n",
    "v"
   ]
  },
  {
   "cell_type": "code",
   "execution_count": 305,
   "metadata": {},
   "outputs": [
    {
     "data": {
      "text/plain": [
       "array([[0, 1, 2],\n",
       "       [3, 4, 5],\n",
       "       [6, 7, 8]])"
      ]
     },
     "execution_count": 305,
     "metadata": {},
     "output_type": "execute_result"
    }
   ],
   "source": [
    "x = np.reshape(v, shape=(3,3))\n",
    "x"
   ]
  },
  {
   "cell_type": "code",
   "execution_count": 306,
   "metadata": {},
   "outputs": [],
   "source": [
    "C = np.tile(x, reps=(3,1))"
   ]
  },
  {
   "cell_type": "code",
   "execution_count": 304,
   "metadata": {},
   "outputs": [
    {
     "data": {
      "text/plain": [
       "array([[0, 3, 6],\n",
       "       [1, 4, 7],\n",
       "       [2, 5, 8],\n",
       "       [0, 3, 6],\n",
       "       [1, 4, 7],\n",
       "       [2, 5, 8],\n",
       "       [0, 3, 6],\n",
       "       [1, 4, 7],\n",
       "       [2, 5, 8]])"
      ]
     },
     "execution_count": 304,
     "metadata": {},
     "output_type": "execute_result"
    }
   ],
   "source": [
    "np.tile(x, reps=3).T"
   ]
  },
  {
   "cell_type": "code",
   "execution_count": 309,
   "metadata": {},
   "outputs": [],
   "source": [
    "z = C * np.reshape(v, (len(v),1))"
   ]
  },
  {
   "cell_type": "code",
   "execution_count": 310,
   "metadata": {},
   "outputs": [
    {
     "data": {
      "text/plain": [
       "array([[ 0,  0,  0],\n",
       "       [ 3,  4,  5],\n",
       "       [12, 14, 16],\n",
       "       [ 0,  3,  6],\n",
       "       [12, 16, 20],\n",
       "       [30, 35, 40],\n",
       "       [ 0,  6, 12],\n",
       "       [21, 28, 35],\n",
       "       [48, 56, 64]])"
      ]
     },
     "execution_count": 310,
     "metadata": {},
     "output_type": "execute_result"
    }
   ],
   "source": [
    "z"
   ]
  },
  {
   "cell_type": "code",
   "execution_count": null,
   "metadata": {},
   "outputs": [],
   "source": []
  }
 ],
 "metadata": {
  "kernelspec": {
   "display_name": "gen_ai",
   "language": "python",
   "name": "python3"
  },
  "language_info": {
   "codemirror_mode": {
    "name": "ipython",
    "version": 3
   },
   "file_extension": ".py",
   "mimetype": "text/x-python",
   "name": "python",
   "nbconvert_exporter": "python",
   "pygments_lexer": "ipython3",
   "version": "3.12.4"
  }
 },
 "nbformat": 4,
 "nbformat_minor": 2
}
