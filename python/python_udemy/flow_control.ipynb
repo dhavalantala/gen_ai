{
 "cells": [
  {
   "cell_type": "markdown",
   "metadata": {},
   "source": [
    "# **Flow Comtrol**"
   ]
  },
  {
   "cell_type": "code",
   "execution_count": 1,
   "metadata": {},
   "outputs": [
    {
     "name": "stdout",
     "output_type": "stream",
     "text": [
      "True is true\n"
     ]
    }
   ],
   "source": [
    "if True:\n",
    "    print(\"True is true\")"
   ]
  },
  {
   "cell_type": "code",
   "execution_count": 2,
   "metadata": {},
   "outputs": [],
   "source": [
    "if False:\n",
    "    print(\"False is true\")"
   ]
  },
  {
   "cell_type": "code",
   "execution_count": 4,
   "metadata": {},
   "outputs": [
    {
     "name": "stdout",
     "output_type": "stream",
     "text": [
      "Hello\n"
     ]
    }
   ],
   "source": [
    "if 4 == 4:\n",
    "    print(\"Hello\")"
   ]
  },
  {
   "cell_type": "code",
   "execution_count": 5,
   "metadata": {},
   "outputs": [],
   "source": [
    "import numpy as np"
   ]
  },
  {
   "cell_type": "code",
   "execution_count": 21,
   "metadata": {},
   "outputs": [
    {
     "name": "stdout",
     "output_type": "stream",
     "text": [
      "randum 0.16165436205432743\n",
      "0.16165436205432743\n",
      "3\n",
      "Here\n"
     ]
    }
   ],
   "source": [
    "randum = np.random.randn()\n",
    "\n",
    "print(f\"randum {randum}\")\n",
    "if randum>0:\n",
    "    print(randum)\n",
    "    x = 3\n",
    "    print(x)\n",
    "\n",
    "print(\"Here\")"
   ]
  },
  {
   "cell_type": "code",
   "execution_count": 23,
   "metadata": {},
   "outputs": [
    {
     "name": "stdout",
     "output_type": "stream",
     "text": [
      "1.5355373133433927is positive\n"
     ]
    }
   ],
   "source": [
    "r = np.random.randn()\n",
    "\n",
    "if  r>0:\n",
    "    print(str(r) + 'is positive')\n",
    "else:\n",
    "    print(str(r) + 'is negative')"
   ]
  },
  {
   "cell_type": "code",
   "execution_count": 26,
   "metadata": {},
   "outputs": [
    {
     "name": "stdout",
     "output_type": "stream",
     "text": [
      "cake type not recognized.\n"
     ]
    }
   ],
   "source": [
    "caketype = \"carrot\"\n",
    "caketype = \"chocolate\"\n",
    "caketype = \"dcvsdjhc\"\n",
    "\n",
    "if caketype == \"carrot\":\n",
    "    print(\"Total yumminess!\")\n",
    "elif caketype == \"chocolate\":\n",
    "    print(\"Still quite good.\")\n",
    "elif caketype == \"fruit\":\n",
    "    print(\"Healthy?\")\n",
    "else:\n",
    "    print(\"cake type not recognized.\")"
   ]
  },
  {
   "cell_type": "code",
   "execution_count": 32,
   "metadata": {},
   "outputs": [
    {
     "name": "stdout",
     "output_type": "stream",
     "text": [
      "Probably carrot cake\n",
      "Or not\n"
     ]
    }
   ],
   "source": [
    "caketype = 'Carrot'\n",
    "\n",
    "if caketype[0].lower() == 'c': print(\"Probably carrot cake\")\n",
    "\n",
    "\n",
    "print(\"Probably carrot cake\") if caketype[0] == \"c\" else print(\"Or not\")"
   ]
  },
  {
   "cell_type": "code",
   "execution_count": 38,
   "metadata": {},
   "outputs": [
    {
     "name": "stdout",
     "output_type": "stream",
     "text": [
      "at least one statement is true\n"
     ]
    }
   ],
   "source": [
    "if  10 < 3 or 4 == 4:\n",
    "    print(\"at least one statement is true\")\n"
   ]
  },
  {
   "cell_type": "code",
   "execution_count": 48,
   "metadata": {},
   "outputs": [],
   "source": [
    "def dotproduct(a,b):\n",
    "    ## Check that both vextors are numpy arrays\n",
    "    if  not (isinstance(a, np.ndarray) and isinstance(b, np.ndarray)):\n",
    "        raise Exception(\"Must be numpy array\")\n",
    "\n",
    "    ## check yhat both vectors have the same lebgth\n",
    "    if not (len(a) == len(b)):\n",
    "        raise Exception(\"Must be same length\")\n",
    "\n",
    "    ## return the dot product\n",
    "    return sum(a * b)"
   ]
  },
  {
   "cell_type": "code",
   "execution_count": 49,
   "metadata": {},
   "outputs": [],
   "source": [
    "a = np.array([3,4,2])\n",
    "b = np.array([3,4,1])"
   ]
  },
  {
   "cell_type": "code",
   "execution_count": 50,
   "metadata": {},
   "outputs": [
    {
     "data": {
      "text/plain": [
       "np.int64(27)"
      ]
     },
     "execution_count": 50,
     "metadata": {},
     "output_type": "execute_result"
    }
   ],
   "source": [
    "dotproduct(a, b)"
   ]
  },
  {
   "cell_type": "code",
   "execution_count": 51,
   "metadata": {},
   "outputs": [
    {
     "data": {
      "text/plain": [
       "np.int64(27)"
      ]
     },
     "execution_count": 51,
     "metadata": {},
     "output_type": "execute_result"
    }
   ],
   "source": [
    "np.dot(a,b)"
   ]
  },
  {
   "cell_type": "code",
   "execution_count": null,
   "metadata": {},
   "outputs": [],
   "source": []
  }
 ],
 "metadata": {
  "kernelspec": {
   "display_name": "myenv",
   "language": "python",
   "name": "python3"
  },
  "language_info": {
   "codemirror_mode": {
    "name": "ipython",
    "version": 3
   },
   "file_extension": ".py",
   "mimetype": "text/x-python",
   "name": "python",
   "nbconvert_exporter": "python",
   "pygments_lexer": "ipython3",
   "version": "3.12.4"
  }
 },
 "nbformat": 4,
 "nbformat_minor": 2
}
